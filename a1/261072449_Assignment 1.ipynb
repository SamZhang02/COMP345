{
  "nbformat": 4,
  "nbformat_minor": 0,
  "metadata": {
    "colab": {
      "provenance": []
    },
    "kernelspec": {
      "name": "python3",
      "display_name": "Python 3"
    }
  },
  "cells": [
    {
      "cell_type": "markdown",
      "metadata": {
        "id": "2FuO82RTBftK"
      },
      "source": [
        "Go to https://drive.google.com/drive/folders/1Pe6D713L9S0GWwb_XzeLXAeNZOrBqZaN?usp=sharing and click add shortcut to drive. This will add the data required for this assignment to your Google drive.\n",
        "\n",
        "<img src=\"https://drive.google.com/uc?id=1LqHisiziX8Ri94Xs6Cv8mhx6vivFM3kS\" alt=\"Drawing\" height=\"300\"/>\n",
        "\n",
        "Caution: Since this is real language on Twitter and deals with world events, some of it could be disturbing. In the later section of the course, we will deal with ethics and what is appropriate and what is not.\n",
        "\n",
        "First, let's read the tweets from the Google drive and print a few lines from the file.\n",
        "\n"
      ]
    },
    {
      "cell_type": "markdown",
      "metadata": {
        "id": "UtZEcHthBeXz"
      },
      "source": [
        "Run the below code snippet. It will generate a URL which generates an authorization code. Enter it below to give Colab access to your Google drive.\n",
        "\n",
        "**Note:** Copy button may not work. Try copying the authorization code manually."
      ]
    },
    {
      "cell_type": "code",
      "metadata": {
        "id": "KW-dce7oJlyr",
        "colab": {
          "base_uri": "https://localhost:8080/"
        },
        "outputId": "b1cacc35-557a-4e94-8df7-f895e0e1fa8b"
      },
      "source": [
        "from google.colab import drive\n",
        "drive.mount('/content/drive/')"
      ],
      "execution_count": 19,
      "outputs": [
        {
          "output_type": "stream",
          "name": "stdout",
          "text": [
            "Drive already mounted at /content/drive/; to attempt to forcibly remount, call drive.mount(\"/content/drive/\", force_remount=True).\n"
          ]
        }
      ]
    },
    {
      "cell_type": "markdown",
      "metadata": {
        "id": "Ni2pYuuQKaHY"
      },
      "source": [
        "When you run the `ls` command below, you should see the files in the tweets folder.\n",
        "\n",
        "\n"
      ]
    },
    {
      "cell_type": "code",
      "metadata": {
        "id": "zYENtyc7SOxA",
        "colab": {
          "base_uri": "https://localhost:8080/"
        },
        "outputId": "152633c4-5c06-45df-ee9d-2056eb8faec3"
      },
      "source": [
        "!ls \"/content/drive/My Drive/tweets\""
      ],
      "execution_count": 20,
      "outputs": [
        {
          "output_type": "stream",
          "name": "stdout",
          "text": [
            "20000_tweets.jsonl\t\t\t\t  covid-tweets-2020-08-10-2020-08-21.trigrams.txt\n",
            "20000_tweets.txt\t\t\t\t  GoogleNews-vectors-negative300.bin.gz\n",
            "covid-tweets-2020-08-10-2020-08-21.tokenized.txt  stop_words.txt\n"
          ]
        }
      ]
    },
    {
      "cell_type": "markdown",
      "metadata": {
        "id": "vEvB8AMiqeNh"
      },
      "source": [
        "Let's read the top 10 tweets from the file `20000_tweets.txt` and print them."
      ]
    },
    {
      "cell_type": "code",
      "metadata": {
        "id": "gZMOmElPSPHk",
        "colab": {
          "base_uri": "https://localhost:8080/"
        },
        "outputId": "f463830f-9f4b-4486-9a05-bd15002b90d2"
      },
      "source": [
        "f = open(\"/content/drive/My Drive/tweets/20000_tweets.txt\", \"r\")\n",
        "\n",
        "line_count = 0\n",
        "top_tweets = []\n",
        "for tweet in f:\n",
        "  print(\"### Tweet\", line_count, \"#####\")\n",
        "  print(tweet)\n",
        "\n",
        "  top_tweets.append(tweet)\n",
        "  line_count += 1\n",
        "  if line_count >= 10:\n",
        "    break\n",
        "f.close()"
      ],
      "execution_count": 21,
      "outputs": [
        {
          "output_type": "stream",
          "name": "stdout",
          "text": [
            "### Tweet 0 #####\n",
            "Covid-19 Economic Response: Cancel Student Loans by Executive Order. - Sign the Petition! https://t.co/BnPXWHv5cr via @Change\n",
            "\n",
            "### Tweet 1 #####\n",
            "Hey! The stock markets up! Fuck Trump and the Trumpublican Senate! https://t.co/4t6mgbaG2C\n",
            "\n",
            "### Tweet 2 #####\n",
            "@ProjectLincoln blame Trump for no sports because of Covid19 @MeidasTouch\n",
            "\n",
            "### Tweet 3 #####\n",
            "Do u guys think that reopening of the dinning in the restaurants of Lahore will bring any change in our lives? Nothing is going to change I think cause many people have learned cooking, painting and many new stuff during lockdown and I think we all will continue those things 1/2\n",
            "\n",
            "### Tweet 4 #####\n",
            "@NBCSAthletics Ya just knew the season wouldn’t go by without some bench clearing brawls... Covid or not. Behaviors can’t be changed because of rules, sadly\n",
            "\n",
            "### Tweet 5 #####\n",
            "You’re comparing apples and oranges. The NCAA has a lot more to balance than the NFL. https://t.co/oeMsbgeem7\n",
            "\n",
            "### Tweet 6 #####\n",
            "THANK YOU @POTUS Absolutely NO MONEY/NO BAILOUTS for Irresponsibly Run Democrat Cities...#NoBailouts https://t.co/bWLELcCutV\n",
            "\n",
            "### Tweet 7 #####\n",
            "#Texas #USA #NorthAmerica Cases: 509,539 (+21) Death: 8,583 Recovered: 344,845 Critical: 1,754 New %: 0.3% Death %: 1.7% Population %: 1.8% #CoronaVirus #Covid19 #SarsCov2 #Forecast https://t.co/yHbd9gl1uz https://t.co/sRulRFOeUx\n",
            "\n",
            "### Tweet 8 #####\n",
            "New Zealand celebrated their 100th day without COVID today. A society that works together for the common good: that's what actual freedom looks like. https://t.co/7qppin3QRM\n",
            "\n",
            "### Tweet 9 #####\n",
            "It’s going to be screen time all the time for kindergartners and graduate students alike. Teachers are threatening strikes. And students are already coming home infected with the coronavirus, which has upended American education. https://t.co/O3eT06wmrU\n",
            "\n"
          ]
        }
      ]
    },
    {
      "cell_type": "markdown",
      "metadata": {
        "id": "7r-IHJ3KU27N"
      },
      "source": [
        "# **Problem 1: Word Tokenizer**\n",
        "\n",
        "Implement your own tokenizer for tweets without using libraries like `nltk`, `spacy` or any existing tokenizers. Tokenizer is a fundamental tool for processing any text data. The tokenizer should preserve punctuations.\n",
        "\n",
        "The outputs for the top five tweets should approximately be as follows (it's fine to not exactly match this output)\n",
        "\n",
        "```\n",
        "['Covid-19', 'Economic', 'Response', ':', 'Cancel', 'Student', 'Loans', 'by', 'Executive', 'Order', '.', '-', 'Sign', 'the', 'Petition', '!', 'https://t.co/BnPXWHv5cr', 'via', '@Change']\n",
        "['Hey', '!', 'The', 'stock', 'markets', 'up', '!', 'Fuck', 'Trump', 'and', 'the', 'Trumpublican', 'Senate', '!', 'https://t.co/4t6mgbaG2C']\n",
        "['@ProjectLincoln', 'blame', 'Trump', 'for', 'no', 'sports', 'because', 'of', 'Covid19', '@MeidasTouch']\n",
        "['Do', 'u', 'guys', 'think', 'that', 'reopening', 'of', 'the', 'dinning', 'in', 'the', 'restaurants', 'of', 'Lahore', 'will', 'bring', 'any', 'change', 'in', 'our', 'lives', '?', 'Nothing', 'is', 'going', 'to', 'change', 'I', 'think', 'cause', 'many', 'people', 'have', 'learned', 'cooking', ',', 'painting', 'and', 'many', 'new', 'stuff', 'during', 'lockdown', 'and', 'I', 'think', 'we', 'all', 'will', 'continue', 'those', 'things', '1/2']\n",
        "['@NBCSAthletics', 'Ya', 'just', 'knew', 'the', 'season', 'would', 'n’t', 'go', 'by', 'without', 'some', 'bench', 'clearing', 'brawls', '...', 'Covid', 'or', 'not', '.', 'Behaviors', 'ca', 'n’t', 'be', 'changed', 'because', 'of', 'rules', ',', 'sadly']\n",
        "```\n",
        "\n",
        "A thing to note is that words like `wouldn't` and `you'll` become two tokens `would n't` and `you 'll`, after tokenization. Treating `n't` and  `'ll` as independent tokens is common in NLP tools. You can come up with that kind of list easily, e.g., `'s, 've`.\n"
      ]
    },
    {
      "cell_type": "code",
      "metadata": {
        "id": "0Y-oKzw7OHOX",
        "colab": {
          "base_uri": "https://localhost:8080/"
        },
        "outputId": "90cd604d-aabf-4496-a3b4-d452deb35b40"
      },
      "source": [
        "# Some rules:\n",
        "# split by punctuations but not \"@\"\n",
        "# split by whitespaces\n",
        "# split by contractions\n",
        "# keep hashtags\n",
        "\n",
        "# import any relevant libraries here\n",
        "import functools\n",
        "import re\n",
        "from urllib.parse import urlparse\n",
        "\n",
        "PUNCTUATIONS = [\"!\", \"\\\"\", \"$\", \"&\", \"\\'\", \"(\",\")\", \"*\",\".\",\":\", \";\", \"<\", \"=\", \">\", \"?\", \"@\", \"[\", \"\\\\\", \"]\", \"^\",\"_\",\"`\",\"{\",\"|\",\"}\",\"~\", \",\", \"...\"]\n",
        "CONTRACTIONS = {\"'re\", \"'ve\", \"'d \", \"'ll\", \"n’t\", \"'m\", \"'t\", \"’re\", \"’ve\", \"’d \", \"’ll\", \"n’t\", \"’m\", \"’t\", \"'s\", \"’s\"}\n",
        "\n",
        "def is_url(url):\n",
        "  parsed = urlparse(url)\n",
        "  return bool(parsed.scheme) and bool(parsed.netloc)\n",
        "\n",
        "def is_username(s):\n",
        "  pattern = r'^@\\S.*'\n",
        "  return re.fullmatch(pattern, s)\n",
        "\n",
        "def split_on_contractions(s):\n",
        "  for contraction in CONTRACTIONS:\n",
        "    if s.endswith(contraction):\n",
        "      return [s.removesuffix(contraction), contraction]\n",
        "\n",
        "  return [s]\n",
        "\n",
        "def split_on_punctuations(s):\n",
        "    if is_url(s) or is_username(s):\n",
        "        return [s]\n",
        "\n",
        "    words = []\n",
        "    curr = []\n",
        "\n",
        "    i = 0\n",
        "    while i < len(s):\n",
        "        # special case for triple dots\n",
        "        if s[i:i+3] == \"...\":\n",
        "            if curr:\n",
        "                words.append(\"\".join(curr))\n",
        "                curr = []\n",
        "            words.append(\"...\")\n",
        "            i += 3\n",
        "        # special case for comma is separating numbers\n",
        "        elif s[i] == ',' and i > 0 and i < len(s) - 1 and s[i-1].isdigit() and s[i+1].isdigit():\n",
        "            curr.append(s[i])\n",
        "            i += 1\n",
        "        elif s[i] not in PUNCTUATIONS:\n",
        "            curr.append(s[i])\n",
        "            i += 1\n",
        "        else:\n",
        "            if curr:\n",
        "                words.append(\"\".join(curr))\n",
        "                curr = []\n",
        "            words.append(s[i])\n",
        "            i += 1\n",
        "\n",
        "    if curr:\n",
        "        words.append(\"\".join(curr))\n",
        "\n",
        "    return [word for word in words if word]\n",
        "\n",
        "def flatten(arr):\n",
        "  return functools.reduce(lambda x, y: x + flatten(y), arr, []) if isinstance(arr, list) else [arr]\n",
        "\n",
        "# a function to tokenize text into words\n",
        "def tokenize(text):\n",
        "  words = text.split()\n",
        "  words = flatten([split_on_contractions(word) for word in words])\n",
        "  words = flatten([split_on_punctuations(word) for word in words])\n",
        "  words = [word for word in words if word]  # clear empty str\n",
        "\n",
        "  return words\n",
        "\n",
        "tokenized_top_tweets = [tokenize(tweet) for tweet in top_tweets]\n",
        "for tokenized_tweet in tokenized_top_tweets:\n",
        "  print(tokenized_tweet)"
      ],
      "execution_count": 22,
      "outputs": [
        {
          "output_type": "stream",
          "name": "stdout",
          "text": [
            "['Covid-19', 'Economic', 'Response', ':', 'Cancel', 'Student', 'Loans', 'by', 'Executive', 'Order', '.', '-', 'Sign', 'the', 'Petition', '!', 'https://t.co/BnPXWHv5cr', 'via', '@Change']\n",
            "['Hey', '!', 'The', 'stock', 'markets', 'up', '!', 'Fuck', 'Trump', 'and', 'the', 'Trumpublican', 'Senate', '!', 'https://t.co/4t6mgbaG2C']\n",
            "['@ProjectLincoln', 'blame', 'Trump', 'for', 'no', 'sports', 'because', 'of', 'Covid19', '@MeidasTouch']\n",
            "['Do', 'u', 'guys', 'think', 'that', 'reopening', 'of', 'the', 'dinning', 'in', 'the', 'restaurants', 'of', 'Lahore', 'will', 'bring', 'any', 'change', 'in', 'our', 'lives', '?', 'Nothing', 'is', 'going', 'to', 'change', 'I', 'think', 'cause', 'many', 'people', 'have', 'learned', 'cooking', ',', 'painting', 'and', 'many', 'new', 'stuff', 'during', 'lockdown', 'and', 'I', 'think', 'we', 'all', 'will', 'continue', 'those', 'things', '1/2']\n",
            "['@NBCSAthletics', 'Ya', 'just', 'knew', 'the', 'season', 'would', 'n’t', 'go', 'by', 'without', 'some', 'bench', 'clearing', 'brawls', '...', 'Covid', 'or', 'not', '.', 'Behaviors', 'ca', 'n’t', 'be', 'changed', 'because', 'of', 'rules', ',', 'sadly']\n",
            "['You', '’re', 'comparing', 'apples', 'and', 'oranges', '.', 'The', 'NCAA', 'has', 'a', 'lot', 'more', 'to', 'balance', 'than', 'the', 'NFL', '.', 'https://t.co/oeMsbgeem7']\n",
            "['THANK', 'YOU', '@POTUS', 'Absolutely', 'NO', 'MONEY/NO', 'BAILOUTS', 'for', 'Irresponsibly', 'Run', 'Democrat', 'Cities', '...', '#NoBailouts', 'https://t.co/bWLELcCutV']\n",
            "['#Texas', '#USA', '#NorthAmerica', 'Cases', ':', '509,539', '(', '+21', ')', 'Death', ':', '8,583', 'Recovered', ':', '344,845', 'Critical', ':', '1,754', 'New', '%', ':', '0', '.', '3%', 'Death', '%', ':', '1', '.', '7%', 'Population', '%', ':', '1', '.', '8%', '#CoronaVirus', '#Covid19', '#SarsCov2', '#Forecast', 'https://t.co/yHbd9gl1uz', 'https://t.co/sRulRFOeUx']\n",
            "['New', 'Zealand', 'celebrated', 'their', '100th', 'day', 'without', 'COVID', 'today', '.', 'A', 'society', 'that', 'works', 'together', 'for', 'the', 'common', 'good', ':', 'that', \"'\", 's', 'what', 'actual', 'freedom', 'looks', 'like', '.', 'https://t.co/7qppin3QRM']\n",
            "['It', '’s', 'going', 'to', 'be', 'screen', 'time', 'all', 'the', 'time', 'for', 'kindergartners', 'and', 'graduate', 'students', 'alike', '.', 'Teachers', 'are', 'threatening', 'strikes', '.', 'And', 'students', 'are', 'already', 'coming', 'home', 'infected', 'with', 'the', 'coronavirus', ',', 'which', 'has', 'upended', 'American', 'education', '.', 'https://t.co/O3eT06wmrU']\n"
          ]
        }
      ]
    },
    {
      "cell_type": "markdown",
      "metadata": {
        "id": "KEmNfrQqKoMY"
      },
      "source": [
        "# Problem 2: Post-process the tokenized tweets\n",
        "\n",
        "Clean the tokenized tweets such that usernames are repalced with `@USER`, URLs are replaced with `URL`, punctuations are removed and words are lower-cased.\n",
        "\n",
        "The output for the top ten tweets after cleaning should look something like this\n",
        "\n",
        "```\n",
        "['covid-19', 'economic', 'response', 'cancel', 'student', 'loans', 'by', 'executive', 'order', 'sign', 'the', 'petition', 'URL', 'via', '@USER']\n",
        "['hey', 'the', 'stock', 'markets', 'up', 'fuck', 'trump', 'and', 'the', 'trumpublican', 'senate', 'URL']\n",
        "['@USER', 'blame', 'trump', 'for', 'no', 'sports', 'because', 'of', 'covid19', '@USER']\n",
        "['do', 'u', 'guys', 'think', 'that', 'reopening', 'of', 'the', 'dinning', 'in', 'the', 'restaurants', 'of', 'lahore', 'will', 'bring', 'any', 'change', 'in', 'our', 'lives', 'nothing', 'is', 'going', 'to', 'change', 'i', 'think', 'cause', 'many', 'people', 'have', 'learned', 'cooking', 'painting', 'and', 'many', 'new', 'stuff', 'during', 'lockdown', 'and', 'i', 'think', 'we', 'all', 'will', 'continue', 'those', 'things', '1/2']\n",
        "['@USER', 'ya', 'just', 'knew', 'the', 'season', 'would', 'n’t', 'go', 'by', 'without', 'some', 'bench', 'clearing', 'brawls', 'covid', 'or', 'not', 'behaviors', 'ca', 'n’t', 'be', 'changed', 'because', 'of', 'rules', 'sadly']\n",
        "```"
      ]
    },
    {
      "cell_type": "markdown",
      "metadata": {
        "id": "jN_QSZ6paBpR"
      },
      "source": []
    },
    {
      "cell_type": "code",
      "metadata": {
        "id": "EMWFqI9KbDnY",
        "colab": {
          "base_uri": "https://localhost:8080/"
        },
        "outputId": "d33bc810-63ee-462d-ebf4-c9b20ca0a68e"
      },
      "source": [
        "def replace_url(s):\n",
        "    return \"URL\" if is_url(s) else s\n",
        "\n",
        "def replace_username(s):\n",
        "    return \"@USER\" if is_username(s) else s\n",
        "\n",
        "# function to clean a tweet\n",
        "def clean_a_tweet(tokenized_tweet):\n",
        "  clean_tokenized_tweet = list(filter(lambda s: s not in PUNCTUATIONS,[replace_url(replace_username(s.lower())) for s in tokenized_tweet]))\n",
        "  return clean_tokenized_tweet\n",
        "\n",
        "anonymized_top_tweets = [clean_a_tweet(tokenized_tweet) for tokenized_tweet in tokenized_top_tweets]\n",
        "for tokenized_tweet in anonymized_top_tweets:\n",
        "  print(tokenized_tweet)"
      ],
      "execution_count": 23,
      "outputs": [
        {
          "output_type": "stream",
          "name": "stdout",
          "text": [
            "['covid-19', 'economic', 'response', 'cancel', 'student', 'loans', 'by', 'executive', 'order', '-', 'sign', 'the', 'petition', 'URL', 'via', '@USER']\n",
            "['hey', 'the', 'stock', 'markets', 'up', 'fuck', 'trump', 'and', 'the', 'trumpublican', 'senate', 'URL']\n",
            "['@USER', 'blame', 'trump', 'for', 'no', 'sports', 'because', 'of', 'covid19', '@USER']\n",
            "['do', 'u', 'guys', 'think', 'that', 'reopening', 'of', 'the', 'dinning', 'in', 'the', 'restaurants', 'of', 'lahore', 'will', 'bring', 'any', 'change', 'in', 'our', 'lives', 'nothing', 'is', 'going', 'to', 'change', 'i', 'think', 'cause', 'many', 'people', 'have', 'learned', 'cooking', 'painting', 'and', 'many', 'new', 'stuff', 'during', 'lockdown', 'and', 'i', 'think', 'we', 'all', 'will', 'continue', 'those', 'things', '1/2']\n",
            "['@USER', 'ya', 'just', 'knew', 'the', 'season', 'would', 'n’t', 'go', 'by', 'without', 'some', 'bench', 'clearing', 'brawls', 'covid', 'or', 'not', 'behaviors', 'ca', 'n’t', 'be', 'changed', 'because', 'of', 'rules', 'sadly']\n",
            "['you', '’re', 'comparing', 'apples', 'and', 'oranges', 'the', 'ncaa', 'has', 'a', 'lot', 'more', 'to', 'balance', 'than', 'the', 'nfl', 'URL']\n",
            "['thank', 'you', '@USER', 'absolutely', 'no', 'money/no', 'bailouts', 'for', 'irresponsibly', 'run', 'democrat', 'cities', '#nobailouts', 'URL']\n",
            "['#texas', '#usa', '#northamerica', 'cases', '509,539', '+21', 'death', '8,583', 'recovered', '344,845', 'critical', '1,754', 'new', '%', '0', '3%', 'death', '%', '1', '7%', 'population', '%', '1', '8%', '#coronavirus', '#covid19', '#sarscov2', '#forecast', 'URL', 'URL']\n",
            "['new', 'zealand', 'celebrated', 'their', '100th', 'day', 'without', 'covid', 'today', 'a', 'society', 'that', 'works', 'together', 'for', 'the', 'common', 'good', 'that', 's', 'what', 'actual', 'freedom', 'looks', 'like', 'URL']\n",
            "['it', '’s', 'going', 'to', 'be', 'screen', 'time', 'all', 'the', 'time', 'for', 'kindergartners', 'and', 'graduate', 'students', 'alike', 'teachers', 'are', 'threatening', 'strikes', 'and', 'students', 'are', 'already', 'coming', 'home', 'infected', 'with', 'the', 'coronavirus', 'which', 'has', 'upended', 'american', 'education', 'URL']\n"
          ]
        }
      ]
    },
    {
      "cell_type": "markdown",
      "metadata": {
        "id": "JVkL6n6jU1LU"
      },
      "source": [
        "# Problem 3: Unigrams and Bigrams\n",
        "\n",
        "Read **all** tweets from the file `20000_tweets.txt` and print the top 10 unigrams and bigrams. Consider only the English tweets. You have to use `tokenize` and `clean_a_tweet` function.\n",
        "\n",
        "Output format\n",
        "\n",
        "```\n",
        "Top 10 Unigrams\n",
        "@USER\t16698\n",
        "the\t16666\n",
        "URL\t12610\n",
        "to\t11866\n",
        "a\t9845\n",
        "....\n",
        "....\n",
        "....\n",
        "....\n",
        "....\n",
        "\n",
        "Top 10 Bigrams\n",
        "@USER @USER\t7494\n",
        "in the\t1280\n",
        "of the\t1265\n",
        "it ’s\t860\n",
        "a mask\t793\n",
        "....\n",
        "....\n",
        "....\n",
        "....\n",
        "....\n",
        "```\n",
        "\n",
        "Your numbers need not match the above word frequencies. Depending on your tokenizer, you may get different numbers"
      ]
    },
    {
      "cell_type": "code",
      "metadata": {
        "id": "DQs6Th7AlTtb",
        "colab": {
          "base_uri": "https://localhost:8080/"
        },
        "outputId": "2b3c702f-4087-4f56-f75b-3106d1ef2d58"
      },
      "source": [
        "from collections import Counter\n",
        "\n",
        "N = 10\n",
        "\n",
        "with open(\"/content/drive/My Drive/tweets/20000_tweets.txt\", \"r\") as fobj:\n",
        "  lines = (line for line in fobj.readlines())\n",
        "\n",
        "unigram_counts = Counter()\n",
        "bigram_counts = Counter()\n",
        "\n",
        "i = 0\n",
        "for line in lines:\n",
        "  tokenized_line = tokenize(line)\n",
        "  cleaned_line = clean_a_tweet(tokenized_line)\n",
        "\n",
        "  unigrams = cleaned_line\n",
        "  bigrams = (f\"{unigrams[i]} {unigrams[i + 1]}\" for i in range(len(unigrams) - 1))\n",
        "\n",
        "  for unigram in unigrams:\n",
        "    unigram_counts[unigram] += 1\n",
        "\n",
        "  for bigram in bigrams:\n",
        "    bigram_counts[bigram] += 1\n",
        "\n",
        "  i += 1\n",
        "\n",
        "most_common_unigrams = unigram_counts.most_common(N)\n",
        "most_common_bigrams = bigram_counts.most_common(N)\n",
        "\n",
        "print(\"Top 10 Unigrams\")\n",
        "for k,v in most_common_unigrams:\n",
        "  print(f\"{k}    {v}\")\n",
        "\n",
        "print()\n",
        "\n",
        "print(\"Top 10 Bigrams\")\n",
        "for k,v in most_common_bigrams:\n",
        "  print(f'{k}    {v}')\n"
      ],
      "execution_count": 24,
      "outputs": [
        {
          "output_type": "stream",
          "name": "stdout",
          "text": [
            "Top 10 Unigrams\n",
            "@USER    16631\n",
            "the    16622\n",
            "URL    12589\n",
            "to    11854\n",
            "a    9833\n",
            "and    8513\n",
            "of    7806\n",
            "i    6497\n",
            "is    6364\n",
            "in    6289\n",
            "\n",
            "Top 10 Bigrams\n",
            "@USER @USER    7494\n",
            "in the    1280\n",
            "of the    1263\n",
            "it ’s    848\n",
            "a mask    781\n",
            "this is    727\n",
            "the pandemic    719\n",
            "@USER i    718\n",
            "wear a    691\n",
            "URL URL    681\n"
          ]
        }
      ]
    },
    {
      "cell_type": "markdown",
      "metadata": {
        "id": "2Q-FpH2k7akG"
      },
      "source": [
        "# Problem 4: How frequent are the following unigrams and bigrams?\n",
        "\n",
        "```\n",
        "covid\n",
        "coronavirus\n",
        "republicans\n",
        "democrats\n",
        "social distancing\n",
        "wear mask\n",
        "no mask\n",
        "donald trump\n",
        "joe biden\n",
        "```\n",
        "\n",
        "Output:\n",
        "```\n",
        "covid\t4437\n",
        "coronavirus\t1368\n",
        "...\n",
        "...\n",
        "social distancing\t568\n",
        "wear mask\t19\n",
        "...\n",
        "...\n",
        "...\n",
        "```\n"
      ]
    },
    {
      "cell_type": "code",
      "metadata": {
        "id": "11Jcaf1T9mHU",
        "colab": {
          "base_uri": "https://localhost:8080/"
        },
        "outputId": "a6b43626-0070-4d16-e6f7-341339880c26"
      },
      "source": [
        "woi = [\n",
        "  \"covid\",\n",
        "  \"coronavirus\",\n",
        "  \"republicans\",\n",
        "  \"democrats\",\n",
        "  \"social distancing\",\n",
        "  \"wear mask\",\n",
        "  \"no mask\",\n",
        "  \"donald trump\",\n",
        "  \"joe biden\"\n",
        "]\n",
        "\n",
        "for word in woi:\n",
        "  counter = unigram_counts if len(word.split()) == 1 else bigram_counts\n",
        "  print(f\"{word}    {counter[word]}\")"
      ],
      "execution_count": 25,
      "outputs": [
        {
          "output_type": "stream",
          "name": "stdout",
          "text": [
            "covid    4299\n",
            "coronavirus    1354\n",
            "republicans    57\n",
            "democrats    162\n",
            "social distancing    553\n",
            "wear mask    19\n",
            "no mask    19\n",
            "donald trump    61\n",
            "joe biden    22\n"
          ]
        }
      ]
    }
  ]
}