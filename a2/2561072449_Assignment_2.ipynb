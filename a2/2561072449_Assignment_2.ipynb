{
  "nbformat": 4,
  "nbformat_minor": 0,
  "metadata": {
    "colab": {
      "provenance": []
    },
    "kernelspec": {
      "name": "python3",
      "display_name": "Python 3"
    }
  },
  "cells": [
    {
      "cell_type": "markdown",
      "metadata": {
        "id": "jpPo-0zjUGkA"
      },
      "source": [
        "# Problem 1\n",
        "\n",
        "\n",
        "---\n",
        "\n"
      ]
    },
    {
      "cell_type": "markdown",
      "metadata": {
        "id": "EORfPYZbhqyf"
      },
      "source": [
        "\n",
        "Write regular expressions that match the output strings in the given set of input strings.\n",
        "\n",
        "\n",
        "#### Problem 1.1\n",
        "Input:\n",
        "```\n",
        "ababababab\n",
        "abb\n",
        "bbabaa\n",
        "bba\n",
        "abbabb\n",
        "```\n",
        "\n",
        "Output:\n",
        "```\n",
        "abb\n",
        "abbabb\n",
        "```\n",
        "\n",
        "Note: Do not use the regular expression which resembles `(word1|word2)` to handle each case individually. This defeats the purpose of the regular expression."
      ]
    },
    {
      "cell_type": "code",
      "metadata": {
        "id": "s3fasx98SqmM",
        "outputId": "d7780b91-6b56-4857-f06d-fc7e2016991a",
        "colab": {
          "base_uri": "https://localhost:8080/"
        }
      },
      "source": [
        "import re\n",
        "\n",
        "words = [\"ababababab\", \"abb\", \"bbabaa\", \"bba\", \"abbabb\"]\n",
        "pattern = re.compile(\"^(abb)+$\")\n",
        "for word in words:\n",
        "  if pattern.match(word):\n",
        "    print(word)"
      ],
      "execution_count": 31,
      "outputs": [
        {
          "output_type": "stream",
          "name": "stdout",
          "text": [
            "abb\n",
            "abbabb\n"
          ]
        }
      ]
    },
    {
      "cell_type": "markdown",
      "metadata": {
        "id": "alK7uvOIV0bn"
      },
      "source": [
        "#### Problem 1.2\n",
        "Input:\n",
        "```\n",
        "abc\n",
        "bc\n",
        "ab\n",
        "aabbcc\n",
        "abbbbbbbb\n",
        "ccbbaa\n",
        "```\n",
        "\n",
        "Output:\n",
        "```\n",
        "abc\n",
        "ab\n",
        "abbbbbbbb\n",
        "```"
      ]
    },
    {
      "cell_type": "code",
      "metadata": {
        "id": "iX-nXRtzWkKr",
        "colab": {
          "base_uri": "https://localhost:8080/"
        },
        "outputId": "a6ccca46-6d41-41a6-fcdd-af31bac88f86"
      },
      "source": [
        "words = [\"abc\", \"bc\", \"ab\", \"aabbcc\", \"abbbbbbbb\", \"ccbbaa\"]\n",
        "pattern = re.compile(\"^ab+c?$\")\n",
        "for word in words:\n",
        "  if pattern.match(word):\n",
        "    print(word)\n",
        "# write code"
      ],
      "execution_count": 32,
      "outputs": [
        {
          "output_type": "stream",
          "name": "stdout",
          "text": [
            "abc\n",
            "ab\n",
            "abbbbbbbb\n"
          ]
        }
      ]
    },
    {
      "cell_type": "markdown",
      "metadata": {
        "id": "YvPLBmtpWvv6"
      },
      "source": [
        "#### Problem 1.3\n",
        "\n",
        "Input:\n",
        "```\n",
        "abc\n",
        "abbbbbbbb\n",
        "acc\n",
        "abcbcbcbc\n",
        "ac\n",
        "xzzyyyyzyzzzz\n",
        "accvvvvcvcccc\n",
        " ```\n",
        "\n",
        "Output:\n",
        "```\n",
        "abc\n",
        "abbbbbbbb\n",
        "abcbcbcbc\n",
        "```\n",
        "\n",
        "Note: Use positive strings to define the regular expression."
      ]
    },
    {
      "cell_type": "code",
      "metadata": {
        "id": "O91H-AuRZZGg",
        "colab": {
          "base_uri": "https://localhost:8080/"
        },
        "outputId": "31c32fe3-0c9d-4d1d-9662-6413c97b134b"
      },
      "source": [
        "words = ['abc', 'abbbbbbbb', 'acc', 'abcbcbcbc', 'ac', 'xzzyyyyzyzzzz', 'accvvvvcvcccc']\n",
        "\n",
        "pattern = re.compile(\"^a(b+c?)+$\")\n",
        "for word in words:\n",
        "  if pattern.match(word):\n",
        "    print(word)"
      ],
      "execution_count": 33,
      "outputs": [
        {
          "output_type": "stream",
          "name": "stdout",
          "text": [
            "abc\n",
            "abbbbbbbb\n",
            "abcbcbcbc\n"
          ]
        }
      ]
    },
    {
      "cell_type": "markdown",
      "metadata": {
        "id": "Sl29e2t8Zfnh"
      },
      "source": [
        "#### Problem 1.4\n",
        "\n",
        "Input:\n",
        "```\n",
        "x. y\n",
        "x?  Y\n",
        "x! y\n",
        "x y\n",
        "x.  Y\n",
        "x Y\n",
        "xY\n",
        "```\n",
        "\n",
        "Ouput:\n",
        "```\n",
        "x. y\n",
        "x?  Y\n",
        "x! y\n",
        "x.  Y\n",
        "```\n"
      ]
    },
    {
      "cell_type": "code",
      "metadata": {
        "id": "X1pJaNywZedv",
        "colab": {
          "base_uri": "https://localhost:8080/"
        },
        "outputId": "00a39966-324b-4373-81c3-2dc293fc271d"
      },
      "source": [
        "words = ['x. y', 'x?  Y', 'x! y', 'x y', 'x.  Y', 'x Y', 'xY']\n",
        "\n",
        "pattern = re.compile(\"(?i)^x[.,!?]\\s+y$\")\n",
        "for word in words:\n",
        "  if pattern.match(word):\n",
        "    print(word)\n"
      ],
      "execution_count": 34,
      "outputs": [
        {
          "output_type": "stream",
          "name": "stdout",
          "text": [
            "x. y\n",
            "x?  Y\n",
            "x! y\n",
            "x.  Y\n"
          ]
        }
      ]
    },
    {
      "cell_type": "markdown",
      "metadata": {
        "id": "lWCIT3K_wYPH"
      },
      "source": [
        "#### Problem 1.5\n",
        "\n",
        "Input:\n",
        "\n",
        "```\n",
        "<html class=\"client-nojs\" lang=\"en\" dir=\"ltr\">\n",
        "<table class=\"infobox biota\" style=\"text-align: left; width: 200px; font-size: 100%\">\n",
        "<body class=\"ltr sitedir-ltr\">\n",
        "<div id=\"page-base\" class=\"noprint\">\n",
        "<a id=\"top\"></a>\n",
        "```\n",
        "\n",
        "Output:\n",
        "```\n",
        "tags:\n",
        "html\n",
        "table\n",
        "body\n",
        "div\n",
        "a\n",
        "\n",
        "keys:\n",
        "class\n",
        "lang\n",
        "dir\n",
        "style\n",
        "id\n",
        "\n",
        "values:\n",
        "client-nojs; infobox biota; ltr sitedir-ltr; noprint\n",
        "en\n",
        "ltr\n",
        "text-align: left; width: 200px; font-size: 100%\n",
        "page-base; top\n",
        "```\n",
        "\n",
        "Note: For this question, your code must either use either the function [re.group()](https://docs.python.org/3/library/re.html#re.Match.group) or [re.findall()](https://docs.python.org/3/library/re.html#re.findall) to find tags, keys and values. Do not write a separate regular expression for each input line (i.e., your code has to make use of the same regular expression for each line). The output should be exactly as above."
      ]
    },
    {
      "cell_type": "code",
      "metadata": {
        "id": "X0FT9S_Jvnbc",
        "colab": {
          "base_uri": "https://localhost:8080/"
        },
        "outputId": "6ccc8706-fc38-482a-9e6f-bcf9ddae139f"
      },
      "source": [
        "from collections import defaultdict\n",
        "\n",
        "def foreach(func, iterable):\n",
        "  for item in iterable:\n",
        "    func(item)\n",
        "\n",
        "input_lines = ['<html class=\"client-nojs\" lang=\"en\" dir=\"ltr\">',\n",
        "               '<table class=\"infobox biota\" style=\"text-align: left; width: 200px; font-size: 100%\">',\n",
        "               '<body class=\"ltr sitedir-ltr\">',\n",
        "               '<div id=\"page-base\" class=\"noprint\">',\n",
        "               '<a id=\"top\"></a>']\n",
        "\n",
        "pattern = re.compile(r'<(\\w+)|(\\w+)=\"([^\"]*)\"')\n",
        "\n",
        "tags = []\n",
        "keys = set()\n",
        "values_by_key = defaultdict(set)\n",
        "current_tag = None\n",
        "\n",
        "for line in input_lines:\n",
        "    for match in pattern.finditer(line):\n",
        "        if match.group(1):\n",
        "            current_tag = match.group(1)\n",
        "            tags.append(current_tag)\n",
        "        elif match.group(2) and match.group(3):\n",
        "            key, value = match.group(2), match.group(3)\n",
        "            keys.add(key)\n",
        "            values_by_key[key].add(value)\n",
        "\n",
        "keys = sorted(keys)\n",
        "values = {key: '; '.join(sorted(values_by_key[key])) for key in keys}\n",
        "\n",
        "print('tags:')\n",
        "foreach(print, tags)\n",
        "\n",
        "print('\\nkeys:')\n",
        "foreach(print, keys)\n",
        "\n",
        "\n",
        "print('\\nvalues:')\n",
        "foreach(print, (values.values()))\n"
      ],
      "execution_count": 37,
      "outputs": [
        {
          "output_type": "stream",
          "name": "stdout",
          "text": [
            "tags:\n",
            "html\n",
            "table\n",
            "body\n",
            "div\n",
            "a\n",
            "\n",
            "keys:\n",
            "class\n",
            "dir\n",
            "id\n",
            "lang\n",
            "style\n",
            "\n",
            "values:\n",
            "client-nojs; infobox biota; ltr sitedir-ltr; noprint\n",
            "ltr\n",
            "page-base; top\n",
            "en\n",
            "text-align: left; width: 200px; font-size: 100%\n"
          ]
        }
      ]
    },
    {
      "cell_type": "markdown",
      "metadata": {
        "id": "0SehLKyuQM4Q"
      },
      "source": [
        "\n",
        "\n",
        "## Problem 2 and 3\n",
        "\n",
        "See https://docs.google.com/document/d/1KRnEequL1kJcngDNOvmTzX5iuy88J8IRWTETujsVgAQ/edit?usp=sharing\n",
        "\n"
      ]
    },
    {
      "cell_type": "code",
      "source": [],
      "metadata": {
        "id": "5HMg52QT9GdI"
      },
      "execution_count": 35,
      "outputs": []
    }
  ]
}